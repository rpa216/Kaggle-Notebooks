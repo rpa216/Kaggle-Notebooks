{
  "cells": [
    {
      "metadata": {
        "_cell_guid": "26e265e9-0557-45f8-9e47-2f064b665794",
        "_uuid": "d46491a07149e7e534c4ae47041dcd9f4c6031cf",
        "trusted": false,
        "collapsed": true
      },
      "cell_type": "code",
      "source": "# This Python 3 environment comes with many helpful analytics libraries installed\n# It is defined by the kaggle/python docker image: https://github.com/kaggle/docker-python\n# For example, here's several helpful packages to load in \n\nimport numpy as np # linear algebra\nimport pandas as pd # data processing, CSV file I/O (e.g. pd.read_csv)\nimport matplotlib.pyplot as plt\nimport seaborn as sns\n# Input data files are available in the \"../input/\" directory.\n# For example, running this (by clicking run or pressing Shift+Enter) will list the files in the input directory\n\nfrom subprocess import check_output\nprint(check_output([\"ls\", \"../input\"]).decode(\"utf8\"))\n\n# Any results you write to the current directory are saved as output.\ntf = pd.read_csv(\"../input/train.csv\")\nft = pd.read_csv(\"../input/test.csv\")",
      "execution_count": null,
      "outputs": []
    },
    {
      "metadata": {
        "_cell_guid": "bee00086-cdcc-460c-a167-c85209dd9947",
        "_uuid": "fe5fbc2968174a3f08eafb92366c4c19f0de8092",
        "trusted": false,
        "collapsed": true
      },
      "cell_type": "code",
      "source": "tf.head()",
      "execution_count": null,
      "outputs": []
    },
    {
      "metadata": {
        "_cell_guid": "41a00e6a-b2de-4cdc-a8e3-0d8e2d8dd76e",
        "_uuid": "b0677a5c30a6e5290d3f6722b454ef20fa6590f2",
        "trusted": false,
        "collapsed": true
      },
      "cell_type": "code",
      "source": "ft.head()",
      "execution_count": null,
      "outputs": []
    },
    {
      "metadata": {
        "_cell_guid": "489c8d55-1eac-4d55-991f-a199305f0000",
        "_uuid": "7f5b4a7044d5671ce8ff3962cbc1619f624e9ffc",
        "trusted": false,
        "collapsed": true
      },
      "cell_type": "code",
      "source": "tf['spacegroup'].value_counts(normalize= True).plot.bar()\nplt.title('SpaceGroup distribution in the training set')\nplt.ylabel('% of crystals in spacegroup')\nplt.xlabel('Space group')\nplt.show()",
      "execution_count": null,
      "outputs": []
    },
    {
      "metadata": {
        "_cell_guid": "d73388ed-a260-481e-a98c-260317f5aebe",
        "_uuid": "ce6500dc76fcea9da75e93f310ffdf997ded3e7d",
        "trusted": false,
        "collapsed": true
      },
      "cell_type": "code",
      "source": "ft['spacegroup'].value_counts(normalize=True).plot.bar()",
      "execution_count": null,
      "outputs": []
    },
    {
      "metadata": {
        "_cell_guid": "bf88280a-48e7-435c-a0be-249c72951c00",
        "_uuid": "1022084b919ffc41d20e957892c8b22bcd5799c5",
        "trusted": false,
        "collapsed": true
      },
      "cell_type": "code",
      "source": "tf.describe()",
      "execution_count": null,
      "outputs": []
    },
    {
      "metadata": {
        "_cell_guid": "1c9016e6-882a-4117-a33c-fb4dc32572f0",
        "_uuid": "80334819a7de75af80ee40a99b78e8c509092b1f",
        "trusted": false,
        "collapsed": true
      },
      "cell_type": "code",
      "source": "ft.describe()",
      "execution_count": null,
      "outputs": []
    },
    {
      "metadata": {
        "_cell_guid": "d9b3c6a5-e161-4ab9-804c-0ed8362ecc38",
        "_uuid": "e7a662a619fe75f79bc28bf34d3cd932ff30dec8"
      },
      "cell_type": "markdown",
      "source": "\n\n#### Okay, we're in luck. The same spacegroup distribution is roughly the same between test and training set, so our models are likely to be relevant. Now let's look at the individual space groups with some information from the Bilbao Crystallographic Server."
    },
    {
      "metadata": {
        "_cell_guid": "d15a241a-4810-4063-bf87-4e5a1904ffcd",
        "_uuid": "62f99525431406e6c1caaff87d6180b4165d48ba",
        "trusted": false,
        "collapsed": true
      },
      "cell_type": "code",
      "source": "tf.groupby(['spacegroup'])['percent_atom_in'].describe()",
      "execution_count": null,
      "outputs": []
    },
    {
      "metadata": {
        "_cell_guid": "c2fdcb99-bd0c-42ee-b6d7-0c9b7b8dd6b7",
        "_uuid": "b4ad1d49a2168cf7437829efe83f6a7e1cd721da",
        "trusted": false,
        "collapsed": true
      },
      "cell_type": "code",
      "source": "tf.groupby(['spacegroup'])['percent_atom_al'].describe()",
      "execution_count": null,
      "outputs": []
    },
    {
      "metadata": {
        "_cell_guid": "0f77eef2-5e76-4fe0-b752-15354d9dc522",
        "_uuid": "95163fe32a1aa39f14bebf0c052a8496df89a236",
        "trusted": false,
        "collapsed": true
      },
      "cell_type": "code",
      "source": "tf.groupby(['spacegroup'])['percent_atom_ga'].describe()",
      "execution_count": null,
      "outputs": []
    },
    {
      "metadata": {
        "_cell_guid": "88102457-57eb-4d72-a326-211592208070",
        "_uuid": "54fbd5444b23b6a9571d535b3d37739017efc777",
        "trusted": false,
        "collapsed": true
      },
      "cell_type": "code",
      "source": "tf.groupby(['spacegroup'])['formation_energy_ev_natom'].describe()",
      "execution_count": null,
      "outputs": []
    },
    {
      "metadata": {
        "_cell_guid": "73522e44-d948-4933-920e-8619bb8cafeb",
        "_uuid": "c342c58f77aea6f63ff2f20af63b6eb5eb53dea2",
        "trusted": false,
        "collapsed": true
      },
      "cell_type": "code",
      "source": "tf[tf['formation_energy_ev_natom'] < 0.05].groupby(['spacegroup'])['formation_energy_ev_natom'].describe()",
      "execution_count": null,
      "outputs": []
    },
    {
      "metadata": {
        "_cell_guid": "d824a33e-c46b-4b10-a795-8e22bb2f84f6",
        "_uuid": "00f86ba7da7f7f9bc034c20f181f5744eae1fa81",
        "trusted": false,
        "collapsed": true
      },
      "cell_type": "code",
      "source": "tf.groupby(['spacegroup'])['bandgap_energy_ev'].describe()",
      "execution_count": null,
      "outputs": []
    },
    {
      "metadata": {
        "_cell_guid": "43d6fbc3-3e5e-471e-837b-e3fc05ccdd39",
        "_uuid": "f6839ab6e106fbd563efbf5d11d27fabac0c1c28",
        "trusted": false,
        "collapsed": true
      },
      "cell_type": "code",
      "source": "tf[tf['bandgap_energy_ev'] >= 3.2].groupby(['spacegroup'])['bandgap_energy_ev'].describe()",
      "execution_count": null,
      "outputs": []
    },
    {
      "metadata": {
        "_cell_guid": "9b5ca5ba-a915-422c-bafa-a84c787519a4",
        "_uuid": "cc104a7d920056480985abfe7e3d5462f043547b",
        "trusted": false,
        "collapsed": true
      },
      "cell_type": "code",
      "source": "tf[(tf['bandgap_energy_ev'] >= 3.2) & (tf['formation_energy_ev_natom'] < 0.05)].groupby(['spacegroup'])['bandgap_energy_ev'].describe()",
      "execution_count": null,
      "outputs": []
    },
    {
      "metadata": {
        "_cell_guid": "eef3cb54-1e08-4bd3-bcb6-535149944081",
        "_uuid": "7ab70e5d1e6070f6d06d0f817acf2d0592c62663",
        "trusted": false,
        "collapsed": true
      },
      "cell_type": "code",
      "source": "tf.describe()",
      "execution_count": null,
      "outputs": []
    },
    {
      "metadata": {
        "collapsed": true,
        "_cell_guid": "b96df181-16b1-49b9-b643-af059f9561c4",
        "_uuid": "c81103e8b8363b8457764b1eabd47d6a37a6aa50",
        "trusted": false
      },
      "cell_type": "code",
      "source": "id = tf['id']\ntf.drop('id', axis=1, inplace=True)",
      "execution_count": null,
      "outputs": []
    },
    {
      "metadata": {
        "_cell_guid": "3ef42315-0fad-4dbf-a02c-71dc61f4286b",
        "_uuid": "9662354ca8a8d15e71ad1dc1585bf24db92415ee",
        "trusted": false,
        "collapsed": true
      },
      "cell_type": "code",
      "source": "tf.head()",
      "execution_count": null,
      "outputs": []
    },
    {
      "metadata": {
        "_cell_guid": "b7dd1e3e-4d6f-46a8-9e8c-eaa3a1e9da74",
        "_uuid": "1d73e1e6a13dbf34e74dcdca906c67a851820292",
        "trusted": false,
        "collapsed": true
      },
      "cell_type": "code",
      "source": "#Performing feature scaling\ny = tf['formation_energy_ev_natom']\ny1 = tf['bandgap_energy_ev']\ntf.drop('formation_energy_ev_natom', axis = 1, inplace= True)\ntf.drop('bandgap_energy_ev', axis = 1, inplace=True)\ntf.head()",
      "execution_count": null,
      "outputs": []
    },
    {
      "metadata": {
        "_cell_guid": "869650cb-9004-4f7c-a709-bbda486dfce1",
        "_uuid": "ce0a5663bfc39554d81522df1d14d9d96c0a4ab1",
        "trusted": false,
        "collapsed": true
      },
      "cell_type": "code",
      "source": "X = np.array(tf)\nX.shape\ny = np.array(y.tolist())\ny.shape",
      "execution_count": null,
      "outputs": []
    },
    {
      "metadata": {
        "_cell_guid": "9b437ea4-9447-4685-9885-25ecbc2e0b9b",
        "_uuid": "05f1e4932659990afcb216b1427e31c9103159df",
        "trusted": false,
        "collapsed": true
      },
      "cell_type": "code",
      "source": "#Feature scaling usig min -max scaling\nfrom sklearn.preprocessing import MinMaxScaler\nfrom sklearn.cross_validation import train_test_split\nfrom sklearn.model_selection import ShuffleSplit\nfrom sklearn.preprocessing import StandardScaler\nX_train,X_test, y_train, y_test = train_test_split(X, y, test_size=0.5, random_state =0)\nX1_train,X1_test, y1_train, y1_test = train_test_split(X, y1, test_size=0.6, random_state =0)\nsh = ShuffleSplit(n_splits=4, test_size=0.4, random_state=0)\nsh.get_n_splits(X, y)\nprint(X_train.shape, y_train.shape)\nid1 = ft['id']\nprint(ft.head())\nft.drop('id', axis=1, inplace =True)\nT1 = np.array(ft)\nprint(T1.shape)",
      "execution_count": null,
      "outputs": []
    },
    {
      "metadata": {
        "scrolled": true,
        "_cell_guid": "6e87abfc-584c-461a-b5a5-94f220ac17be",
        "_uuid": "15aa1b361c534e4ae879a7591fbddd51e03590fb",
        "trusted": false,
        "collapsed": true
      },
      "cell_type": "code",
      "source": "from sklearn.linear_model import LogisticRegressionCV\nfrom sklearn.linear_model import LinearRegression\nfrom sklearn.ensemble import RandomForestRegressor\nfrom sklearn.svm import SVR\nclf_3 = SVR(kernel = 'rbf', degree=6, gamma='auto', max_iter=-1,C=0.5, epsilon=0)\nprint(clf_3.fit(X_train, y_train))\nclf_3_1 = SVR(kernel = 'rbf', degree=6, gamma='auto', max_iter=-1,C=0.5, epsilon=0)\nprint(\"the fitting function is for energybandgap\")\nprint(clf_3_1.fit(X1_train, y1_train))\nprint(\"##########################################\")\nclf_2 = RandomForestRegressor(n_estimators= 11, max_features='auto',max_depth=10,random_state=0 )\nprint(clf_2.fit(X_train, y_train))\nprint(\"##########################################\")\nclf_2_1 = RandomForestRegressor(n_estimators= 11, max_features='auto',max_depth=10,random_state=0 )\nprint(\"the fitting function with Random forest is for energybandgap\")\nprint(clf_2_1.fit(X1_train, y1_train))",
      "execution_count": null,
      "outputs": []
    },
    {
      "metadata": {
        "_cell_guid": "f7e1e651-563a-40cb-b467-55e6ad1e81fd",
        "_uuid": "3b74a48b2ffc28e3c80d2dd746584b9271f52580",
        "trusted": false,
        "collapsed": true
      },
      "cell_type": "code",
      "source": "print(clf_3.score(X_test, y_test)*100)\nprint(\"This the accuracy for energy bandgap\",clf_3_1.score(X1_test, y1_test)*100)",
      "execution_count": null,
      "outputs": []
    },
    {
      "metadata": {
        "_cell_guid": "1353c881-e044-4d17-95b7-008ed9b7f8ca",
        "_uuid": "5a33954beca9797d88f8b0b8d23f51d0ad1380c6",
        "trusted": false,
        "collapsed": true
      },
      "cell_type": "code",
      "source": "print(clf_2.score(X_test, y_test)*100)\nprint(\"This the accuracy for energy bandgap\",clf_2_1.score(X1_test, y1_test)*100)",
      "execution_count": null,
      "outputs": []
    },
    {
      "metadata": {
        "_cell_guid": "6668dccd-6d11-4521-98f8-ec84dd6f2504",
        "_uuid": "78724e627acad9bccca9a58d0ebab4ae34512b5b",
        "trusted": false,
        "collapsed": true
      },
      "cell_type": "code",
      "source": "a = clf_2.predict(T1)\nb = clf_2_1.predict(T1)\nprint(a)",
      "execution_count": null,
      "outputs": []
    },
    {
      "metadata": {
        "_cell_guid": "310cab68-cc1a-4103-a8b1-743b2ce6ace9",
        "_uuid": "25b4836656724ac3b4dbe3b0c9796cc6391a4a03",
        "trusted": false,
        "collapsed": true
      },
      "cell_type": "code",
      "source": "print(b)",
      "execution_count": null,
      "outputs": []
    },
    {
      "metadata": {
        "_cell_guid": "e1606c00-a75b-4305-9bfe-e6dee2da830c",
        "_uuid": "7da97b01b8784ba03178512785b306bb70765acf",
        "trusted": false,
        "collapsed": true
      },
      "cell_type": "code",
      "source": "final = pd.DataFrame()\nfinal['id']=id1\nfinal['formation_energy_ev_natom'] = a\nfinal['bandgap_energy_ev'] = b\nfinal.info()",
      "execution_count": null,
      "outputs": []
    },
    {
      "metadata": {
        "collapsed": true,
        "_cell_guid": "27e91d63-147d-446e-bca2-1a6ae919ddbb",
        "_uuid": "7fb52256fc5fb42f7b215b7aaf8599794865adaf",
        "trusted": false
      },
      "cell_type": "code",
      "source": "final.to_csv(\"final.csv\", index=False)",
      "execution_count": null,
      "outputs": []
    },
    {
      "metadata": {
        "collapsed": true,
        "_cell_guid": "b1df419a-ae26-48fc-8eea-95ab0a3b1ed9",
        "_uuid": "a9eea3389dbacee095e1b8a3b5c394848050828f",
        "trusted": false
      },
      "cell_type": "code",
      "source": "",
      "execution_count": null,
      "outputs": []
    }
  ],
  "metadata": {
    "language_info": {
      "mimetype": "text/x-python",
      "file_extension": ".py",
      "pygments_lexer": "ipython3",
      "codemirror_mode": {
        "version": 3,
        "name": "ipython"
      },
      "version": "3.6.4",
      "nbconvert_exporter": "python",
      "name": "python"
    },
    "kernelspec": {
      "display_name": "Python 3",
      "language": "python",
      "name": "python3"
    }
  },
  "nbformat": 4,
  "nbformat_minor": 1
}